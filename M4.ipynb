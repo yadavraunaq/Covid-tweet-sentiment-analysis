{
 "cells": [
  {
   "cell_type": "markdown",
   "metadata": {},
   "source": [
    "# Implementation of LSTM model for training and testing"
   ]
  },
  {
   "cell_type": "code",
   "execution_count": 1,
   "metadata": {},
   "outputs": [],
   "source": [
    "from tensorflow.keras.models import Sequential,load_model\n",
    "from tensorflow.keras.layers import LSTM, Dense\n",
    "from tensorflow.keras.layers import Dropout, Activation, Flatten\n",
    "import warnings\n",
    "warnings.filterwarnings(\"ignore\") "
   ]
  },
  {
   "cell_type": "code",
   "execution_count": 2,
   "metadata": {
    "colab": {},
    "colab_type": "code",
    "id": "gDTF5giuRZ73"
   },
   "outputs": [],
   "source": [
    "import numpy as np\n",
    "import matplotlib.pyplot as plt\n",
    "import pandas as pd\n",
    "from sklearn.preprocessing import MinMaxScaler"
   ]
  },
  {
   "cell_type": "code",
   "execution_count": 3,
   "metadata": {},
   "outputs": [],
   "source": [
    "data = pd.read_csv('Corona.csv', encoding='latin-1')"
   ]
  },
  {
   "cell_type": "code",
   "execution_count": 4,
   "metadata": {},
   "outputs": [],
   "source": [
    "data=data.dropna()"
   ]
  },
  {
   "cell_type": "code",
   "execution_count": 5,
   "metadata": {},
   "outputs": [
    {
     "data": {
      "text/plain": [
       "Index(['UserName', 'ScreenName', 'Location', 'TweetAt', 'OriginalTweet',\n",
       "       'Sentiment'],\n",
       "      dtype='object')"
      ]
     },
     "execution_count": 5,
     "metadata": {},
     "output_type": "execute_result"
    }
   ],
   "source": [
    "data.columns"
   ]
  },
  {
   "cell_type": "code",
   "execution_count": 6,
   "metadata": {},
   "outputs": [],
   "source": [
    "from sklearn.preprocessing import LabelEncoder\n",
    "var_mod = ['UserName', 'ScreenName', 'Location', 'TweetAt', 'OriginalTweet',\n",
    "       'Sentiment']\n",
    "le = LabelEncoder()\n",
    "for i in var_mod:\n",
    "    data[i] = le.fit_transform(data[i]).astype(int)"
   ]
  },
  {
   "cell_type": "code",
   "execution_count": 7,
   "metadata": {},
   "outputs": [
    {
     "data": {
      "text/html": [
       "<div>\n",
       "<style scoped>\n",
       "    .dataframe tbody tr th:only-of-type {\n",
       "        vertical-align: middle;\n",
       "    }\n",
       "\n",
       "    .dataframe tbody tr th {\n",
       "        vertical-align: top;\n",
       "    }\n",
       "\n",
       "    .dataframe thead th {\n",
       "        text-align: right;\n",
       "    }\n",
       "</style>\n",
       "<table border=\"1\" class=\"dataframe\">\n",
       "  <thead>\n",
       "    <tr style=\"text-align: right;\">\n",
       "      <th></th>\n",
       "      <th>UserName</th>\n",
       "      <th>ScreenName</th>\n",
       "      <th>Location</th>\n",
       "      <th>TweetAt</th>\n",
       "      <th>OriginalTweet</th>\n",
       "      <th>Sentiment</th>\n",
       "    </tr>\n",
       "  </thead>\n",
       "  <tbody>\n",
       "    <tr>\n",
       "      <th>0</th>\n",
       "      <td>0</td>\n",
       "      <td>0</td>\n",
       "      <td>1006</td>\n",
       "      <td>0</td>\n",
       "      <td>501</td>\n",
       "      <td>3</td>\n",
       "    </tr>\n",
       "    <tr>\n",
       "      <th>1</th>\n",
       "      <td>1</td>\n",
       "      <td>1</td>\n",
       "      <td>1925</td>\n",
       "      <td>0</td>\n",
       "      <td>3857</td>\n",
       "      <td>4</td>\n",
       "    </tr>\n",
       "    <tr>\n",
       "      <th>2</th>\n",
       "      <td>2</td>\n",
       "      <td>2</td>\n",
       "      <td>1964</td>\n",
       "      <td>0</td>\n",
       "      <td>1216</td>\n",
       "      <td>4</td>\n",
       "    </tr>\n",
       "    <tr>\n",
       "      <th>5</th>\n",
       "      <td>3</td>\n",
       "      <td>3</td>\n",
       "      <td>2229</td>\n",
       "      <td>0</td>\n",
       "      <td>921</td>\n",
       "      <td>4</td>\n",
       "    </tr>\n",
       "    <tr>\n",
       "      <th>6</th>\n",
       "      <td>4</td>\n",
       "      <td>4</td>\n",
       "      <td>40</td>\n",
       "      <td>0</td>\n",
       "      <td>1147</td>\n",
       "      <td>4</td>\n",
       "    </tr>\n",
       "  </tbody>\n",
       "</table>\n",
       "</div>"
      ],
      "text/plain": [
       "   UserName  ScreenName  Location  TweetAt  OriginalTweet  Sentiment\n",
       "0         0           0      1006        0            501          3\n",
       "1         1           1      1925        0           3857          4\n",
       "2         2           2      1964        0           1216          4\n",
       "5         3           3      2229        0            921          4\n",
       "6         4           4        40        0           1147          4"
      ]
     },
     "execution_count": 7,
     "metadata": {},
     "output_type": "execute_result"
    }
   ],
   "source": [
    "data.head()"
   ]
  },
  {
   "cell_type": "code",
   "execution_count": 8,
   "metadata": {},
   "outputs": [],
   "source": [
    "from sklearn.metrics import confusion_matrix, classification_report, matthews_corrcoef, cohen_kappa_score, accuracy_score, average_precision_score, roc_auc_score"
   ]
  },
  {
   "cell_type": "code",
   "execution_count": 9,
   "metadata": {},
   "outputs": [],
   "source": [
    "X = data.drop(labels='Sentiment', axis=1)\n",
    "#Response variable\n",
    "y = data.loc[:,'Sentiment']    "
   ]
  },
  {
   "cell_type": "code",
   "execution_count": 10,
   "metadata": {},
   "outputs": [],
   "source": [
    "from sklearn.model_selection import train_test_split\n",
    "X_train, X_test, y_train, y_test = train_test_split(X, y, test_size=0.5, random_state=1, stratify=y)"
   ]
  },
  {
   "cell_type": "code",
   "execution_count": 11,
   "metadata": {},
   "outputs": [
    {
     "data": {
      "text/plain": [
       "array([[0.31257846, 0.31257846, 0.57795699, 0.5       , 0.50878514],\n",
       "       [0.412001  , 0.412001  , 0.59453405, 0.5       , 0.77058233],\n",
       "       [0.43635451, 0.43635451, 0.49014337, 0.5       , 0.80898594],\n",
       "       ...,\n",
       "       [0.85262365, 0.85262365, 0.76523297, 1.        , 0.55923695],\n",
       "       [0.72357519, 0.72357519, 0.05421147, 1.        , 0.35190763],\n",
       "       [0.24504143, 0.24504143, 0.01299283, 0.5       , 0.07128514]])"
      ]
     },
     "execution_count": 11,
     "metadata": {},
     "output_type": "execute_result"
    }
   ],
   "source": [
    "scaler = MinMaxScaler()\n",
    "data_training = scaler.fit_transform(X_train)\n",
    "data_training"
   ]
  },
  {
   "cell_type": "code",
   "execution_count": 12,
   "metadata": {},
   "outputs": [
    {
     "data": {
      "text/plain": [
       "array([[0.54568273, 0.54568273, 0.03587444, 1.        , 0.39693698],\n",
       "       [0.24021084, 0.24021084, 0.43004484, 0.5       , 0.81923173],\n",
       "       [0.8498996 , 0.8498996 , 0.45560538, 1.        , 0.95681647],\n",
       "       ...,\n",
       "       [0.46485944, 0.46485944, 0.10358744, 0.5       , 0.06100929],\n",
       "       [0.64608434, 0.64608434, 0.14618834, 1.        , 0.75370324],\n",
       "       [0.77635542, 0.77635542, 0.85470852, 1.        , 0.74190309]])"
      ]
     },
     "execution_count": 12,
     "metadata": {},
     "output_type": "execute_result"
    }
   ],
   "source": [
    "scaler = MinMaxScaler()\n",
    "data_testing = scaler.fit_transform(X_test)\n",
    "data_testing"
   ]
  },
  {
   "cell_type": "code",
   "execution_count": 13,
   "metadata": {},
   "outputs": [
    {
     "data": {
      "text/plain": [
       "array([[0.31257846, 0.31257846, 0.57795699, 0.5       , 0.50878514],\n",
       "       [0.412001  , 0.412001  , 0.59453405, 0.5       , 0.77058233],\n",
       "       [0.43635451, 0.43635451, 0.49014337, 0.5       , 0.80898594],\n",
       "       [0.50740648, 0.50740648, 0.19668459, 0.5       , 0.72138554],\n",
       "       [0.36931961, 0.36931961, 0.625     , 0.5       , 0.72213855],\n",
       "       [0.14612101, 0.14612101, 0.04793907, 0.5       , 0.15763052],\n",
       "       [0.46974642, 0.46974642, 0.62858423, 0.5       , 0.6814759 ],\n",
       "       [0.17273412, 0.17273412, 0.73297491, 0.5       , 0.1812249 ],\n",
       "       [0.14109967, 0.14109967, 0.76836918, 0.5       , 0.93022088],\n",
       "       [0.26487572, 0.26487572, 0.83422939, 0.5       , 0.45456827]])"
      ]
     },
     "execution_count": 13,
     "metadata": {},
     "output_type": "execute_result"
    }
   ],
   "source": [
    "data_training[0:10]"
   ]
  },
  {
   "cell_type": "code",
   "execution_count": 14,
   "metadata": {},
   "outputs": [
    {
     "data": {
      "text/plain": [
       "array([[0.54568273, 0.54568273, 0.03587444, 1.        , 0.39693698],\n",
       "       [0.24021084, 0.24021084, 0.43004484, 0.5       , 0.81923173],\n",
       "       [0.8498996 , 0.8498996 , 0.45560538, 1.        , 0.95681647],\n",
       "       [0.0564759 , 0.0564759 , 0.6896861 , 0.        , 0.91965855],\n",
       "       [0.3438755 , 0.3438755 , 0.08071749, 0.5       , 0.88149636],\n",
       "       [0.16465863, 0.16465863, 0.48251121, 0.5       , 0.60582476],\n",
       "       [0.71009036, 0.71009036, 0.42825112, 1.        , 0.43509917],\n",
       "       [0.35768072, 0.35768072, 0.27443946, 0.5       , 0.42028622],\n",
       "       [0.96209839, 0.96209839, 0.45784753, 1.        , 0.66834045],\n",
       "       [0.53413655, 0.53413655, 0.23587444, 1.        , 0.25307557]])"
      ]
     },
     "execution_count": 14,
     "metadata": {},
     "output_type": "execute_result"
    }
   ],
   "source": [
    "data_testing[0:10]"
   ]
  },
  {
   "cell_type": "code",
   "execution_count": 15,
   "metadata": {},
   "outputs": [],
   "source": [
    "X_train1 = []\n",
    "y_train1 = []"
   ]
  },
  {
   "cell_type": "code",
   "execution_count": 16,
   "metadata": {},
   "outputs": [],
   "source": [
    "for i in range(60, data_training.shape[0]):\n",
    "    X_train1.append(data_training[i-60:i])\n",
    "    y_train1.append(data_training[i, 0])"
   ]
  },
  {
   "cell_type": "code",
   "execution_count": 17,
   "metadata": {},
   "outputs": [],
   "source": [
    "X_train, y_train = np.array(X_train1), np.array(y_train1)"
   ]
  },
  {
   "cell_type": "code",
   "execution_count": 18,
   "metadata": {},
   "outputs": [
    {
     "data": {
      "text/plain": [
       "(1933, 60, 5)"
      ]
     },
     "execution_count": 18,
     "metadata": {},
     "output_type": "execute_result"
    }
   ],
   "source": [
    "X_train.shape"
   ]
  },
  {
   "cell_type": "code",
   "execution_count": 19,
   "metadata": {},
   "outputs": [],
   "source": [
    "X_test1 = []\n",
    "y_test1 = []"
   ]
  },
  {
   "cell_type": "code",
   "execution_count": 20,
   "metadata": {},
   "outputs": [],
   "source": [
    "for i in range(60, data_training.shape[0]):\n",
    "    X_train1.append(data_training[i-60:i])\n",
    "    y_train1.append(data_training[i, 0])"
   ]
  },
  {
   "cell_type": "code",
   "execution_count": 21,
   "metadata": {},
   "outputs": [],
   "source": [
    "X_train, y_train = np.array(X_train1), np.array(y_train1)"
   ]
  },
  {
   "cell_type": "code",
   "execution_count": 22,
   "metadata": {},
   "outputs": [
    {
     "data": {
      "text/plain": [
       "(3866, 60, 5)"
      ]
     },
     "execution_count": 22,
     "metadata": {},
     "output_type": "execute_result"
    }
   ],
   "source": [
    "X_train.shape"
   ]
  },
  {
   "cell_type": "code",
   "execution_count": 23,
   "metadata": {},
   "outputs": [],
   "source": [
    "X_test1 = []\n",
    "y_test1 = []"
   ]
  },
  {
   "cell_type": "code",
   "execution_count": 24,
   "metadata": {},
   "outputs": [],
   "source": [
    "for i in range(60, data_testing.shape[0]):\n",
    "    X_test1.append(data_testing[i-60:i])\n",
    "    y_test1.append(data_testing[i, 0])"
   ]
  },
  {
   "cell_type": "code",
   "execution_count": 25,
   "metadata": {},
   "outputs": [],
   "source": [
    "X_test, y_test = np.array(X_test1), np.array(y_test1)"
   ]
  },
  {
   "cell_type": "code",
   "execution_count": 26,
   "metadata": {},
   "outputs": [
    {
     "data": {
      "text/plain": [
       "(1933, 60, 5)"
      ]
     },
     "execution_count": 26,
     "metadata": {},
     "output_type": "execute_result"
    }
   ],
   "source": [
    "X_test.shape"
   ]
  },
  {
   "cell_type": "code",
   "execution_count": 27,
   "metadata": {},
   "outputs": [
    {
     "name": "stdout",
     "output_type": "stream",
     "text": [
      "Epoch 1/10\n",
      "121/121 [==============================] - 6s 29ms/step - loss: 0.1783 - accuracy: 0.0000e+00\n",
      "Epoch 2/10\n",
      "121/121 [==============================] - 3s 29ms/step - loss: 0.1783 - accuracy: 2.5867e-04\n",
      "Epoch 3/10\n",
      "121/121 [==============================] - 3s 27ms/step - loss: 0.1783 - accuracy: 2.5867e-04\n",
      "Epoch 4/10\n",
      "121/121 [==============================] - 3s 28ms/step - loss: 0.1783 - accuracy: 2.5867e-04\n",
      "Epoch 5/10\n",
      "121/121 [==============================] - 3s 28ms/step - loss: 0.1783 - accuracy: 5.1733e-04\n",
      "Epoch 6/10\n",
      "121/121 [==============================] - 4s 31ms/step - loss: 0.1783 - accuracy: 7.7600e-04\n",
      "Epoch 7/10\n",
      "121/121 [==============================] - 3s 29ms/step - loss: 0.1783 - accuracy: 5.1733e-04\n",
      "Epoch 8/10\n",
      "121/121 [==============================] - 3s 28ms/step - loss: 0.1783 - accuracy: 2.5867e-04\n",
      "Epoch 9/10\n",
      "121/121 [==============================] - 3s 28ms/step - loss: 0.1783 - accuracy: 2.5867e-04\n",
      "Epoch 10/10\n",
      "121/121 [==============================] - 3s 29ms/step - loss: 0.1783 - accuracy: 2.5867e-04\n",
      "Model: \"sequential\"\n",
      "_________________________________________________________________\n",
      " Layer (type)                Output Shape              Param #   \n",
      "=================================================================\n",
      " lstm (LSTM)                 (None, 60, 24)            2880      \n",
      "                                                                 \n",
      " dropout (Dropout)           (None, 60, 24)            0         \n",
      "                                                                 \n",
      " lstm_1 (LSTM)               (None, 50)                15000     \n",
      "                                                                 \n",
      " dense (Dense)               (None, 20)                1020      \n",
      "                                                                 \n",
      " dense_1 (Dense)             (None, 5)                 105       \n",
      "                                                                 \n",
      "=================================================================\n",
      "Total params: 19,005\n",
      "Trainable params: 19,005\n",
      "Non-trainable params: 0\n",
      "_________________________________________________________________\n"
     ]
    }
   ],
   "source": [
    "# Initialising the RNN\n",
    "model = Sequential()\n",
    "# Adding the first LSTM layer and some Dropout regularisation\n",
    "model.add(LSTM(24, return_sequences=True,input_shape=(X_train.shape[1], X_train.shape[2])))  # returns a sequence of vectors of dimension 64\n",
    "model.add(Dropout(0.2))\n",
    "\n",
    "# Adding a second LSTM layer and some Dropout regularisation\n",
    "model.add(LSTM(units = 50))\n",
    "#model.add(Dropout(0.2))\n",
    "\n",
    "model.add(Dense(20,activation='relu'))\n",
    "\n",
    "\n",
    "# Adding the output layer\n",
    "#model.add(Dense(1, activation=\"linear\"))\n",
    "model.add(Dense(5, activation = 'softmax'))\n",
    "\n",
    "#model.add(Dense(units = 1))\n",
    "# Compiling the RNN\n",
    "\n",
    "model.compile(optimizer = 'adam', loss = 'mean_squared_error',metrics=['accuracy'])\n",
    "\n",
    "history=model.fit(X_train, y_train,batch_size=32, epochs=10)\n",
    "# Model summary for number of parameters use in the algorithm \n",
    "model.summary()"
   ]
  },
  {
   "cell_type": "code",
   "execution_count": 28,
   "metadata": {},
   "outputs": [],
   "source": [
    "scores = model.predict(X_test)"
   ]
  },
  {
   "cell_type": "code",
   "execution_count": 29,
   "metadata": {},
   "outputs": [],
   "source": [
    "import math, time"
   ]
  },
  {
   "cell_type": "code",
   "execution_count": 30,
   "metadata": {},
   "outputs": [
    {
     "name": "stdout",
     "output_type": "stream",
     "text": [
      "\n",
      "Train Score: 0.18 MSE (0.42 RMSE)\n",
      "\n",
      "Test Score: 0.17 MSE (0.41 RMSE)\n"
     ]
    }
   ],
   "source": [
    "print(\"\")\n",
    "trainScore = model.evaluate(X_train, y_train, verbose=0)\n",
    "print('Train Score: %.2f MSE (%.2f RMSE)' % (trainScore[0], math.sqrt(trainScore[0])))\n",
    "print(\"\")\n",
    "testScore = model.evaluate(X_test, y_test, verbose=0)\n",
    "print('Test Score: %.2f MSE (%.2f RMSE)' % (testScore[0], math.sqrt(testScore[0])))"
   ]
  },
  {
   "cell_type": "code",
   "execution_count": null,
   "metadata": {},
   "outputs": [],
   "source": []
  },
  {
   "cell_type": "code",
   "execution_count": null,
   "metadata": {},
   "outputs": [],
   "source": []
  }
 ],
 "metadata": {
  "colab": {
   "name": "opinion spam prediction.ipynb",
   "provenance": []
  },
  "kernelspec": {
   "display_name": "Python 3 (ipykernel)",
   "language": "python",
   "name": "python3"
  },
  "language_info": {
   "codemirror_mode": {
    "name": "ipython",
    "version": 3
   },
   "file_extension": ".py",
   "mimetype": "text/x-python",
   "name": "python",
   "nbconvert_exporter": "python",
   "pygments_lexer": "ipython3",
   "version": "3.8.12"
  }
 },
 "nbformat": 4,
 "nbformat_minor": 1
}
