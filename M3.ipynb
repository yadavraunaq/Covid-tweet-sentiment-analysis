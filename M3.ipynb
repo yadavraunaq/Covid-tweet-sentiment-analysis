{
 "cells": [
  {
   "cell_type": "markdown",
   "metadata": {},
   "source": [
    "# Performance measurements of ML algorithms (Supervised and Unsupervised)"
   ]
  },
  {
   "cell_type": "code",
   "execution_count": 1,
   "metadata": {},
   "outputs": [],
   "source": [
    "#import library packages\n",
    "import pandas as p\n",
    "import numpy as n"
   ]
  },
  {
   "cell_type": "code",
   "execution_count": 2,
   "metadata": {},
   "outputs": [],
   "source": [
    "import warnings\n",
    "warnings.filterwarnings(\"ignore\") "
   ]
  },
  {
   "cell_type": "code",
   "execution_count": 3,
   "metadata": {},
   "outputs": [],
   "source": [
    "#Load given dataset\n",
    "data = p.read_csv('Corona_NLP_train.csv',encoding='latin1')\n",
    "df=data.dropna()"
   ]
  },
  {
   "cell_type": "code",
   "execution_count": 4,
   "metadata": {},
   "outputs": [
    {
     "data": {
      "text/plain": [
       "Index(['UserName', 'ScreenName', 'Location', 'TweetAt', 'OriginalTweet',\n",
       "       'Sentiment'],\n",
       "      dtype='object')"
      ]
     },
     "execution_count": 4,
     "metadata": {},
     "output_type": "execute_result"
    }
   ],
   "source": [
    "df.columns"
   ]
  },
  {
   "cell_type": "code",
   "execution_count": 14,
   "metadata": {},
   "outputs": [
    {
     "data": {
      "text/plain": [
       "array([3, 4, 4, ..., 4, 3, 2])"
      ]
     },
     "execution_count": 14,
     "metadata": {},
     "output_type": "execute_result"
    }
   ],
   "source": []
  },
  {
   "cell_type": "code",
   "execution_count": 5,
   "metadata": {},
   "outputs": [],
   "source": [
    "from sklearn.preprocessing import LabelEncoder\n",
    "var_mod = ['UserName', 'ScreenName', 'Location', 'TweetAt', 'OriginalTweet','Sentiment']\n",
    "le = LabelEncoder()\n",
    "for i in var_mod:\n",
    "    df[i] = le.fit_transform(df[i]).astype(int)"
   ]
  },
  {
   "cell_type": "code",
   "execution_count": 15,
   "metadata": {},
   "outputs": [
    {
     "data": {
      "text/html": [
       "<div>\n",
       "<style scoped>\n",
       "    .dataframe tbody tr th:only-of-type {\n",
       "        vertical-align: middle;\n",
       "    }\n",
       "\n",
       "    .dataframe tbody tr th {\n",
       "        vertical-align: top;\n",
       "    }\n",
       "\n",
       "    .dataframe thead th {\n",
       "        text-align: right;\n",
       "    }\n",
       "</style>\n",
       "<table border=\"1\" class=\"dataframe\">\n",
       "  <thead>\n",
       "    <tr style=\"text-align: right;\">\n",
       "      <th></th>\n",
       "      <th>UserName</th>\n",
       "      <th>ScreenName</th>\n",
       "      <th>Location</th>\n",
       "      <th>TweetAt</th>\n",
       "      <th>OriginalTweet</th>\n",
       "      <th>Sentiment</th>\n",
       "    </tr>\n",
       "  </thead>\n",
       "  <tbody>\n",
       "    <tr>\n",
       "      <th>0</th>\n",
       "      <td>0</td>\n",
       "      <td>0</td>\n",
       "      <td>5690</td>\n",
       "      <td>14</td>\n",
       "      <td>4253</td>\n",
       "      <td>3</td>\n",
       "    </tr>\n",
       "    <tr>\n",
       "      <th>1</th>\n",
       "      <td>1</td>\n",
       "      <td>1</td>\n",
       "      <td>10282</td>\n",
       "      <td>14</td>\n",
       "      <td>31462</td>\n",
       "      <td>4</td>\n",
       "    </tr>\n",
       "    <tr>\n",
       "      <th>2</th>\n",
       "      <td>2</td>\n",
       "      <td>2</td>\n",
       "      <td>10551</td>\n",
       "      <td>14</td>\n",
       "      <td>10101</td>\n",
       "      <td>4</td>\n",
       "    </tr>\n",
       "    <tr>\n",
       "      <th>5</th>\n",
       "      <td>3</td>\n",
       "      <td>3</td>\n",
       "      <td>12171</td>\n",
       "      <td>14</td>\n",
       "      <td>7663</td>\n",
       "      <td>4</td>\n",
       "    </tr>\n",
       "    <tr>\n",
       "      <th>6</th>\n",
       "      <td>4</td>\n",
       "      <td>4</td>\n",
       "      <td>296</td>\n",
       "      <td>14</td>\n",
       "      <td>9449</td>\n",
       "      <td>4</td>\n",
       "    </tr>\n",
       "    <tr>\n",
       "      <th>...</th>\n",
       "      <td>...</td>\n",
       "      <td>...</td>\n",
       "      <td>...</td>\n",
       "      <td>...</td>\n",
       "      <td>...</td>\n",
       "      <td>...</td>\n",
       "    </tr>\n",
       "    <tr>\n",
       "      <th>41147</th>\n",
       "      <td>32562</td>\n",
       "      <td>32562</td>\n",
       "      <td>1880</td>\n",
       "      <td>13</td>\n",
       "      <td>31408</td>\n",
       "      <td>2</td>\n",
       "    </tr>\n",
       "    <tr>\n",
       "      <th>41149</th>\n",
       "      <td>32563</td>\n",
       "      <td>32563</td>\n",
       "      <td>10114</td>\n",
       "      <td>13</td>\n",
       "      <td>24684</td>\n",
       "      <td>2</td>\n",
       "    </tr>\n",
       "    <tr>\n",
       "      <th>41150</th>\n",
       "      <td>32564</td>\n",
       "      <td>32564</td>\n",
       "      <td>7461</td>\n",
       "      <td>13</td>\n",
       "      <td>15581</td>\n",
       "      <td>4</td>\n",
       "    </tr>\n",
       "    <tr>\n",
       "      <th>41152</th>\n",
       "      <td>32565</td>\n",
       "      <td>32565</td>\n",
       "      <td>10871</td>\n",
       "      <td>13</td>\n",
       "      <td>6724</td>\n",
       "      <td>3</td>\n",
       "    </tr>\n",
       "    <tr>\n",
       "      <th>41156</th>\n",
       "      <td>32566</td>\n",
       "      <td>32566</td>\n",
       "      <td>11640</td>\n",
       "      <td>13</td>\n",
       "      <td>4705</td>\n",
       "      <td>2</td>\n",
       "    </tr>\n",
       "  </tbody>\n",
       "</table>\n",
       "<p>32567 rows × 6 columns</p>\n",
       "</div>"
      ],
      "text/plain": [
       "       UserName  ScreenName  Location  TweetAt  OriginalTweet  Sentiment\n",
       "0             0           0      5690       14           4253          3\n",
       "1             1           1     10282       14          31462          4\n",
       "2             2           2     10551       14          10101          4\n",
       "5             3           3     12171       14           7663          4\n",
       "6             4           4       296       14           9449          4\n",
       "...         ...         ...       ...      ...            ...        ...\n",
       "41147     32562       32562      1880       13          31408          2\n",
       "41149     32563       32563     10114       13          24684          2\n",
       "41150     32564       32564      7461       13          15581          4\n",
       "41152     32565       32565     10871       13           6724          3\n",
       "41156     32566       32566     11640       13           4705          2\n",
       "\n",
       "[32567 rows x 6 columns]"
      ]
     },
     "execution_count": 15,
     "metadata": {},
     "output_type": "execute_result"
    }
   ],
   "source": [
    "df"
   ]
  },
  {
   "cell_type": "code",
   "execution_count": 6,
   "metadata": {},
   "outputs": [],
   "source": [
    "#According to the cross-validated MCC scores, the random forest is the best-performing model, so now let's evaluate its performance on the test set.\n",
    "from sklearn.metrics import confusion_matrix, classification_report, matthews_corrcoef, cohen_kappa_score, accuracy_score, average_precision_score, roc_auc_score"
   ]
  },
  {
   "cell_type": "code",
   "execution_count": 7,
   "metadata": {},
   "outputs": [],
   "source": [
    "X = df.drop(labels='Sentiment', axis=1)\n",
    "#Response variable\n",
    "y = df.loc[:,'Sentiment']    "
   ]
  },
  {
   "cell_type": "code",
   "execution_count": 17,
   "metadata": {},
   "outputs": [
    {
     "data": {
      "text/plain": [
       "0        3\n",
       "1        4\n",
       "2        4\n",
       "5        4\n",
       "6        4\n",
       "        ..\n",
       "41147    2\n",
       "41149    2\n",
       "41150    4\n",
       "41152    3\n",
       "41156    2\n",
       "Name: Sentiment, Length: 32567, dtype: int32"
      ]
     },
     "execution_count": 17,
     "metadata": {},
     "output_type": "execute_result"
    }
   ],
   "source": [
    "y"
   ]
  },
  {
   "cell_type": "code",
   "execution_count": 8,
   "metadata": {},
   "outputs": [],
   "source": [
    "#We'll use a test size of 30%. We also stratify the split on the response variable, which is very important to do because there are so few fraudulent transactions.\n",
    "from sklearn.model_selection import train_test_split\n",
    "X_train, X_test, y_train, y_test = train_test_split(X, y, test_size=0.3, random_state=1, stratify=y)"
   ]
  },
  {
   "cell_type": "markdown",
   "metadata": {},
   "source": [
    "Random Forest:"
   ]
  },
  {
   "cell_type": "code",
   "execution_count": 9,
   "metadata": {},
   "outputs": [
    {
     "name": "stdout",
     "output_type": "stream",
     "text": [
      "\n",
      "Accuracy result of Random Forest: is: 23.631153413161396\n",
      "\n",
      "\n",
      "Classification report of Random Forest: Results:\n",
      "\n",
      "              precision    recall  f1-score   support\n",
      "\n",
      "           0       0.14      0.08      0.10      1275\n",
      "           1       0.18      0.13      0.15      1582\n",
      "           2       0.24      0.28      0.26      2329\n",
      "           3       0.20      0.17      0.19      1852\n",
      "           4       0.28      0.37      0.32      2733\n",
      "\n",
      "    accuracy                           0.24      9771\n",
      "   macro avg       0.21      0.21      0.21      9771\n",
      "weighted avg       0.22      0.24      0.23      9771\n",
      "\n",
      "Confusion Matrix result of Random Forest: is:\n",
      " [[ 101  139  394  205  436]\n",
      " [ 112  212  412  239  607]\n",
      " [ 201  277  661  349  841]\n",
      " [ 130  212  512  320  678]\n",
      " [ 197  327  746  448 1015]]\n",
      "\n",
      "Sensitivity :  0.42083333333333334\n",
      "\n",
      "Specificity :  0.654320987654321\n"
     ]
    }
   ],
   "source": [
    "from sklearn.ensemble import RandomForestClassifier\n",
    "rfc = RandomForestClassifier()\n",
    "\n",
    "rfc.fit(X_train,y_train)\n",
    "predictR = rfc.predict(X_test)\n",
    "print(\"\")\n",
    "x = (accuracy_score(y_test,predictR)*100)\n",
    "print('Accuracy result of Random Forest: is:', x)\n",
    "print(\"\")\n",
    "\n",
    "print(\"\")\n",
    "print('Classification report of Random Forest: Results:')\n",
    "print(\"\")\n",
    "\n",
    "print(classification_report(y_test,predictR))\n",
    "xrf = (accuracy_score(y_test,predictR)*100)\n",
    "\n",
    "\n",
    "cm2=confusion_matrix(y_test,predictR)\n",
    "print('Confusion Matrix result of Random Forest: is:\\n', confusion_matrix(y_test,predictR))\n",
    "print(\"\")\n",
    "\n",
    "sensitivity1 = cm2[0,0]/(cm2[0,0]+cm2[0,1])\n",
    "print('Sensitivity : ', sensitivity1 )\n",
    "print(\"\")\n",
    "specificity1 = cm2[1,1]/(cm2[1,0]+cm2[1,1])\n",
    "print('Specificity : ', specificity1)"
   ]
  },
  {
   "cell_type": "markdown",
   "metadata": {},
   "source": [
    "LogisticRegression"
   ]
  },
  {
   "cell_type": "code",
   "execution_count": 10,
   "metadata": {},
   "outputs": [
    {
     "name": "stdout",
     "output_type": "stream",
     "text": [
      "\n",
      "Accuracy result of Logistic Regression is: 27.76583768293931\n",
      "\n",
      "\n",
      "Classification report of Logistic Regression : Results:\n",
      "\n",
      "              precision    recall  f1-score   support\n",
      "\n",
      "           0       0.00      0.00      0.00      1275\n",
      "           1       0.00      0.00      0.00      1582\n",
      "           2       0.26      0.05      0.08      2329\n",
      "           3       0.00      0.00      0.00      1852\n",
      "           4       0.28      0.95      0.43      2733\n",
      "\n",
      "    accuracy                           0.28      9771\n",
      "   macro avg       0.11      0.20      0.10      9771\n",
      "weighted avg       0.14      0.28      0.14      9771\n",
      "\n",
      "Confusion Matrix result of Logistic Regression : is:\n",
      " [[   0    0   59    0 1216]\n",
      " [   0    0   60    0 1522]\n",
      " [   0    0  109    0 2220]\n",
      " [   0    0   66    0 1786]\n",
      " [   0    0  129    0 2604]]\n",
      "\n",
      "Sensitivity :  nan\n",
      "\n",
      "Specificity :  nan\n"
     ]
    }
   ],
   "source": [
    "from sklearn.linear_model import LogisticRegression\n",
    "logR= LogisticRegression()\n",
    "logR.fit(X_train,y_train)\n",
    "predictR = logR.predict(X_test)\n",
    "print(\"\")\n",
    "x = (accuracy_score(y_test,predictR)*100)\n",
    "print('Accuracy result of Logistic Regression is:', x)\n",
    "print(\"\")\n",
    "\n",
    "print(\"\")\n",
    "print('Classification report of Logistic Regression : Results:')\n",
    "print(\"\")\n",
    "\n",
    "print(classification_report(y_test,predictR))\n",
    "xl = (accuracy_score(y_test,predictR)*100)\n",
    "\n",
    "\n",
    "cm2=confusion_matrix(y_test,predictR)\n",
    "print('Confusion Matrix result of Logistic Regression : is:\\n', confusion_matrix(y_test,predictR))\n",
    "print(\"\")\n",
    "\n",
    "sensitivity1 = cm2[0,0]/(cm2[0,0]+cm2[0,1])\n",
    "print('Sensitivity : ', sensitivity1 )\n",
    "print(\"\")\n",
    "specificity1 = cm2[1,1]/(cm2[1,0]+cm2[1,1])\n",
    "print('Specificity : ', specificity1)"
   ]
  },
  {
   "cell_type": "code",
   "execution_count": 11,
   "metadata": {},
   "outputs": [],
   "source": [
    "def graph():\n",
    "    import matplotlib.pyplot as plt\n",
    "    data=[xkn,xkm,xrf,xs,xnb,xd,xl]\n",
    "    alg=\"KNN\",\"KM\",\"RF\",\"SVM\",\"NB\",\"DT\",\"LR\"\n",
    "    plt.figure(figsize=(10,5))\n",
    "    b=plt.bar(alg,data,color=(\"r\",\"g\",\"b\",\"y\",\"m\",\"black\",\"gray\"))\n",
    "    plt.title(\"Prediction of Opinion spam using ML\",fontsize=15)\n",
    "    plt.legend(b,data,fontsize=12)\n",
    "    plt.savefig('comp.png')"
   ]
  },
  {
   "cell_type": "code",
   "execution_count": 12,
   "metadata": {
    "scrolled": true
   },
   "outputs": [
    {
     "ename": "NameError",
     "evalue": "name 'xkn' is not defined",
     "output_type": "error",
     "traceback": [
      "\u001b[1;31m---------------------------------------------------------------------------\u001b[0m",
      "\u001b[1;31mNameError\u001b[0m                                 Traceback (most recent call last)",
      "\u001b[1;32m~\\AppData\\Local\\Temp/ipykernel_25984/4084758807.py\u001b[0m in \u001b[0;36m<module>\u001b[1;34m\u001b[0m\n\u001b[1;32m----> 1\u001b[1;33m \u001b[0mgraph\u001b[0m\u001b[1;33m(\u001b[0m\u001b[1;33m)\u001b[0m\u001b[1;33m\u001b[0m\u001b[1;33m\u001b[0m\u001b[0m\n\u001b[0m",
      "\u001b[1;32m~\\AppData\\Local\\Temp/ipykernel_25984/3298570825.py\u001b[0m in \u001b[0;36mgraph\u001b[1;34m()\u001b[0m\n\u001b[0;32m      1\u001b[0m \u001b[1;32mdef\u001b[0m \u001b[0mgraph\u001b[0m\u001b[1;33m(\u001b[0m\u001b[1;33m)\u001b[0m\u001b[1;33m:\u001b[0m\u001b[1;33m\u001b[0m\u001b[1;33m\u001b[0m\u001b[0m\n\u001b[0;32m      2\u001b[0m     \u001b[1;32mimport\u001b[0m \u001b[0mmatplotlib\u001b[0m\u001b[1;33m.\u001b[0m\u001b[0mpyplot\u001b[0m \u001b[1;32mas\u001b[0m \u001b[0mplt\u001b[0m\u001b[1;33m\u001b[0m\u001b[1;33m\u001b[0m\u001b[0m\n\u001b[1;32m----> 3\u001b[1;33m     \u001b[0mdata\u001b[0m\u001b[1;33m=\u001b[0m\u001b[1;33m[\u001b[0m\u001b[0mxkn\u001b[0m\u001b[1;33m,\u001b[0m\u001b[0mxkm\u001b[0m\u001b[1;33m,\u001b[0m\u001b[0mxrf\u001b[0m\u001b[1;33m,\u001b[0m\u001b[0mxs\u001b[0m\u001b[1;33m,\u001b[0m\u001b[0mxnb\u001b[0m\u001b[1;33m,\u001b[0m\u001b[0mxd\u001b[0m\u001b[1;33m,\u001b[0m\u001b[0mxl\u001b[0m\u001b[1;33m]\u001b[0m\u001b[1;33m\u001b[0m\u001b[1;33m\u001b[0m\u001b[0m\n\u001b[0m\u001b[0;32m      4\u001b[0m     \u001b[0malg\u001b[0m\u001b[1;33m=\u001b[0m\u001b[1;34m\"KNN\"\u001b[0m\u001b[1;33m,\u001b[0m\u001b[1;34m\"KM\"\u001b[0m\u001b[1;33m,\u001b[0m\u001b[1;34m\"RF\"\u001b[0m\u001b[1;33m,\u001b[0m\u001b[1;34m\"SVM\"\u001b[0m\u001b[1;33m,\u001b[0m\u001b[1;34m\"NB\"\u001b[0m\u001b[1;33m,\u001b[0m\u001b[1;34m\"DT\"\u001b[0m\u001b[1;33m,\u001b[0m\u001b[1;34m\"LR\"\u001b[0m\u001b[1;33m\u001b[0m\u001b[1;33m\u001b[0m\u001b[0m\n\u001b[0;32m      5\u001b[0m     \u001b[0mplt\u001b[0m\u001b[1;33m.\u001b[0m\u001b[0mfigure\u001b[0m\u001b[1;33m(\u001b[0m\u001b[0mfigsize\u001b[0m\u001b[1;33m=\u001b[0m\u001b[1;33m(\u001b[0m\u001b[1;36m10\u001b[0m\u001b[1;33m,\u001b[0m\u001b[1;36m5\u001b[0m\u001b[1;33m)\u001b[0m\u001b[1;33m)\u001b[0m\u001b[1;33m\u001b[0m\u001b[1;33m\u001b[0m\u001b[0m\n",
      "\u001b[1;31mNameError\u001b[0m: name 'xkn' is not defined"
     ]
    }
   ],
   "source": [
    "graph()"
   ]
  },
  {
   "cell_type": "code",
   "execution_count": 1,
   "metadata": {},
   "outputs": [],
   "source": [
    "import tkinter\n",
    "from matplotlib.backends.backend_tkagg import (FigureCanvasTkAgg, NavigationToolbar2Tk)\n",
    "from matplotlib.backend_bases import key_press_handler\n",
    "from matplotlib.figure import Figure\n",
    "import numpy as np\n",
    "root = tkinter.Tk()\n",
    "root.wm_title(\"Prediction of  using ML\")\n",
    "fig = Figure(figsize=(10,10),dpi=1)\n",
    "canvas = FigureCanvasTkAgg(fig, master=root)  \n",
    "canvas.draw()\n",
    "canvas.get_tk_widget().pack(side=tkinter.TOP, fill=tkinter.BOTH, expand=1)\n",
    "icon=tkinter.PhotoImage(file='comp.png')   \n",
    "label=tkinter.Label(root,image=icon)\n",
    "label.pack()\n",
    "root.mainloop()"
   ]
  },
  {
   "cell_type": "code",
   "execution_count": null,
   "metadata": {},
   "outputs": [],
   "source": []
  },
  {
   "cell_type": "code",
   "execution_count": null,
   "metadata": {},
   "outputs": [],
   "source": []
  }
 ],
 "metadata": {
  "kernelspec": {
   "display_name": "Python 3 (ipykernel)",
   "language": "python",
   "name": "python3"
  },
  "language_info": {
   "codemirror_mode": {
    "name": "ipython",
    "version": 3
   },
   "file_extension": ".py",
   "mimetype": "text/x-python",
   "name": "python",
   "nbconvert_exporter": "python",
   "pygments_lexer": "ipython3",
   "version": "3.8.12"
  }
 },
 "nbformat": 4,
 "nbformat_minor": 2
}
